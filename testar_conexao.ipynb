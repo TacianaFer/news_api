{
 "cells": [
  {
   "cell_type": "code",
   "execution_count": 1,
   "metadata": {},
   "outputs": [],
   "source": [
    "import requests as rq"
   ]
  },
  {
   "cell_type": "code",
   "execution_count": 2,
   "metadata": {},
   "outputs": [],
   "source": [
    "import pandas as pd"
   ]
  },
  {
   "cell_type": "markdown",
   "metadata": {},
   "source": [
    "# Todas as notícias"
   ]
  },
  {
   "cell_type": "code",
   "execution_count": 7,
   "metadata": {},
   "outputs": [
    {
     "data": {
      "text/plain": [
       "[{'author': 'Lucas Ropek',\n",
       "  'content': 'Fresh off dumping its electric vehicles project, Apple appears to be pivoting to something fairly different: household robots. Engineers at the iPhone company have been working on some sort of person… [+1667 chars]',\n",
       "  'description': 'Is the new Apple toy coming anytime soon? Probably not.',\n",
       "  'publishedat': '2024-04-04T12:30:00Z',\n",
       "  'source_name': 'Gizmodo.com',\n",
       "  'title': 'Goodbye Apple Car, Hello Apple Home Robots - Gizmodo',\n",
       "  'url': 'https://gizmodo.com/goodbye-apple-car-hello-apple-home-robots-1851386201',\n",
       "  'urltoimage': 'https://i.kinja-img.com/image/upload/c_fill,h_675,pg_1,q_80,w_1200/1a8ad44c0293e53441c66eab46675a28.jpg'},\n",
       " {'author': 'Jason R. Rich',\n",
       "  'content': \"Apple\\r\\nThese days, any smartphone -- whether it's an Apple iPhone or Android phone -- can handle the same everyday chores, like calls, texts, games, web surfing, email and more. But there are reasons… [+9130 chars]\",\n",
       "  'description': \"Thinking of making a switch? We're making it easy to migrate from an Android smartphone to an Apple iPhone.\",\n",
       "  'publishedat': '2024-04-04T23:32:00+00:00',\n",
       "  'source_name': 'CBS News',\n",
       "  'title': '5 reasons to switch from an Android phone to an Apple iPhone',\n",
       "  'url': 'https://www.cbsnews.com/essentials/switch-to-iphone/',\n",
       "  'urltoimage': 'https://assets2.cbsnewsstatic.com/hub/i/r/2024/04/03/744541a2-3ecb-409e-815b-ff087087eb39/thumbnail/1200x630/a04d5dcea463bf5692569e9dc23cf663/2-split-holiday-gift-guide-2023-19-3.png?v=95af720165ffeea582866d60dd9b1b18'},\n",
       " {'author': 'https://www.facebook.com/entertainmentweekly',\n",
       "  'content': 'Three decades after Chris Farley introduced the world to his legendary Saturday Night Live character Matt Foley, Christina Applegate and David Spade are still cracking up about it.\\r\\nDuring Applegates… [+3280 chars]',\n",
       "  'description': \"Christina Applegate and David Spade reminisce about the iconic 'SNL' sketch with Chris Farley's motivational speaker where they couldn't stop laughing: 'I could feel both of us trying to hold it in as much as we could.'\",\n",
       "  'publishedat': '2024-04-04T20:07:21.7675641Z',\n",
       "  'source_name': 'Entertainment Weekly',\n",
       "  'title': \"Christina Applegate and David Spade recall losing it in iconic 'SNL' sketch with Chris Farley\",\n",
       "  'url': 'https://ew.com/christina-applegate-david-spade-laughing-snl-sketch-chris-farley-8624966',\n",
       "  'urltoimage': 'https://ew.com/thmb/EFkaVMWbygsS0tfEVhibnU-yBSE=/1500x0/filters:no_upscale():max_bytes(150000):strip_icc()/Christina-Applegate-David-Spade-Chris-Farley-SNL-040424-bbaf8a1a019f41a6a34bb41e9fbcf4d3.jpg'},\n",
       " {'author': 'KARE11.com',\n",
       "  'content': None,\n",
       "  'description': None,\n",
       "  'publishedat': '2024-04-04T13:49:00+00:00',\n",
       "  'source_name': 'Google News',\n",
       "  'title': 'Apple River stabbing trial - Day 4 - KARE11.com',\n",
       "  'url': 'https://news.google.com/rss/articles/CBMinwFodHRwczovL3d3dy5rYXJlMTEuY29tL2FydGljbGUvbmV3cy9sb2NhbC9jb3VydHMtbmV3cy9uaWNvbGFlLW1pdS10cmlhbC1kYXktNC13aXRuZXNzLXNheXMtbmljb2xhZS1taXUtbWFkZS1oZXItZmVhcmZ1bC84OS02OGMyNTJkNi04MzE0LTRlMzctYmU1MS0yZTMwMDNjYmQ4OTDSAQA?oc=5',\n",
       "  'urltoimage': None},\n",
       " {'author': 'Ведомости',\n",
       "  'content': None,\n",
       "  'description': None,\n",
       "  'publishedat': '2024-04-04T13:42:23+00:00',\n",
       "  'source_name': 'Google News (Russia)',\n",
       "  'title': 'ФАС потребовала от Apple объяснить ограничения на российские платежные системы - Ведомости',\n",
       "  'url': 'https://news.google.com/rss/articles/CBMiUmh0dHBzOi8vd3d3LnZlZG9tb3N0aS5ydS9maW5hbmNlL2FydGljbGVzLzIwMjQvMDQvMDQvMTAyOTkxNC1mYXMtcG90cmVib3ZhbGEtYXBwbGXSAQA?oc=5',\n",
       "  'urltoimage': None},\n",
       " {'author': 'Wired',\n",
       "  'content': 'Nearly 300 current and former Apple employees have published an open letter alleging that several retail and corporate employees of the company have been disciplined or wrongfully terminated for expr… [+2976 chars]',\n",
       "  'description': 'A protest is planned Saturday at a Chicago Apple store where workers say managers disciplined staff—and fired an employee—for wearing pins, bracelets, or keffiyeh in support of Palestinian people.',\n",
       "  'publishedat': '2024-04-02T11:00:00Z',\n",
       "  'source_name': 'Wired',\n",
       "  'title': 'Apple Store Employees Say Coworkers Were Disciplined for Supporting Palestinians',\n",
       "  'url': 'https://www.wired.com/story/apple-store-employees-disciplined-supporting-palestinians',\n",
       "  'urltoimage': 'https://media.wired.com/photos/660b3d3fd376bb0b921ed38a/191:100/w_1280,c_limit/business_apple_employees_palestine_letter.jpg'},\n",
       " {'author': 'Katherine Tangalakis-Lippert',\n",
       "  'content': 'The DOJ this week filed an antitrust lawsuit against Apple, claiming the company abused its monopoly power to throttle competition among smartphone manufacturers.\\r\\nWhile insiders and analysts across … [+3273 chars]',\n",
       "  'description': \"Former Wall Street Journal columnist Walt Mossberg wrote in a post on Threads that the DOJ's antitrust claim against Apple seems weak.\",\n",
       "  'publishedat': '2024-03-24T01:35:39Z',\n",
       "  'source_name': 'Business Insider (UK)',\n",
       "  'title': \"Walt Mossberg says the DOJ's claim of an Apple monopoly is 'laughable'\",\n",
       "  'url': 'http://uk.businessinsider.com/doj-apple-monopoly-claim-laughable-walt-mossberg-threads-2024-3',\n",
       "  'urltoimage': 'https://i.insider.com/65ff6a931caec1275a68cc72?width=1200&format=jpeg'},\n",
       " {'author': 'Nicole Narea',\n",
       "  'content': 'The Biden administration filed a sweeping antitrust lawsuit against Apple Thursday that targets a product that has long been the major revenue driver for the companys $2.76 trillion business: the iPh… [+6504 chars]',\n",
       "  'description': 'Does Apple have a monopoly on smartphones? The Justice Department thinks so.',\n",
       "  'publishedat': '2024-03-21T23:00:00Z',\n",
       "  'source_name': 'Recode',\n",
       "  'title': 'The antitrust lawsuit against Apple that could dethrone the iPhone, explained',\n",
       "  'url': 'https://www.vox.com/technology/2024/3/21/24108155/apple-new-antitrust-lawsuit-iphone-monopoly',\n",
       "  'urltoimage': 'https://cdn.vox-cdn.com/thumbor/eYLRKQVNuG5zZcp-tBYHGVDuxyY=/0x392:5472x3257/fit-in/1200x630/cdn.vox-cdn.com/uploads/chorus_asset/file/25348785/1173659302.jpg'},\n",
       " {'author': 'GQ',\n",
       "  'content': 'Auf eines ist im Frühjahr immer Verlass: Apple präsentiert seine (ersten) neuen Produkte. Glauben wir den jüngsten Gerüchten, wird das auch 2021 so sein und dieses Jahr sogar wieder live aus Cupertin… [+2936 chars]',\n",
       "  'description': 'Bald soll es so weit sein: Bei der ersten Keynote 2021 präsentiert Apple Neues aus Cupertino. Auf diese Produkte dürfen wir uns freuen!',\n",
       "  'publishedat': '2021-03-23T17:09:52Z',\n",
       "  'source_name': 'Wired.de',\n",
       "  'title': 'Apple Neuheiten: Was wir vor der ersten Keynote 2021 wissen!',\n",
       "  'url': 'https://www.gq-magazin.de/auto-technik/article/apple-neuheiten-2021-das-wissen-wir-vor-keynote',\n",
       "  'urltoimage': 'https://res.cloudinary.com/wired-de/image/upload/t_teaser_square/v1/0/apple-neuheiten-event-erste-keynote-2021-technik-aufmjpg.jpg'},\n",
       " {'author': None,\n",
       "  'content': \"With still no live cricket in sight, we're digging deep into YouTube to keep ourselves entertained. This week, a trip down memory lane with one of the most dominant one-day sides ever - Lancashire in… [+5185 chars]\",\n",
       "  'description': 'This week, we relive the glorious one-day triumphs of Lancashire in the 1990s | ESPNcricinfo.com',\n",
       "  'publishedat': '2020-04-27T10:24:08Z',\n",
       "  'source_name': 'ESPN Cric Info',\n",
       "  'title': \"Akram's yorkers, Hegg's hits, and Chapple's 6 for 18 | ESPNcricinfo.com\",\n",
       "  'url': 'http://www.espncricinfo.com/story/_/id/29102935/o-my-akram-my-hegg-long-ago',\n",
       "  'urltoimage': 'https://a3.espncdn.com/combiner/i?img=%2Fi%2Fcricket%2Fcricinfo%2F1221634_1296x729.jpg'}]"
      ]
     },
     "execution_count": 7,
     "metadata": {},
     "output_type": "execute_result"
    }
   ],
   "source": [
    "rq.get(\"http://localhost:5000/all_news\").json()"
   ]
  },
  {
   "cell_type": "markdown",
   "metadata": {},
   "source": [
    "# Noticias por data"
   ]
  },
  {
   "cell_type": "code",
   "execution_count": 8,
   "metadata": {},
   "outputs": [
    {
     "data": {
      "text/plain": [
       "[{'ano_publicacao': 2021.0,\n",
       "  'contagem_noticias': 1,\n",
       "  'dia_publicacao': 23.0,\n",
       "  'mes_publicacao': 3.0},\n",
       " {'ano_publicacao': 2024.0,\n",
       "  'contagem_noticias': 5,\n",
       "  'dia_publicacao': 4.0,\n",
       "  'mes_publicacao': 4.0},\n",
       " {'ano_publicacao': 2024.0,\n",
       "  'contagem_noticias': 1,\n",
       "  'dia_publicacao': 21.0,\n",
       "  'mes_publicacao': 3.0},\n",
       " {'ano_publicacao': 2020.0,\n",
       "  'contagem_noticias': 1,\n",
       "  'dia_publicacao': 27.0,\n",
       "  'mes_publicacao': 4.0},\n",
       " {'ano_publicacao': 2024.0,\n",
       "  'contagem_noticias': 1,\n",
       "  'dia_publicacao': 2.0,\n",
       "  'mes_publicacao': 4.0},\n",
       " {'ano_publicacao': 2024.0,\n",
       "  'contagem_noticias': 1,\n",
       "  'dia_publicacao': 24.0,\n",
       "  'mes_publicacao': 3.0}]"
      ]
     },
     "execution_count": 8,
     "metadata": {},
     "output_type": "execute_result"
    }
   ],
   "source": [
    "rq.get(\"http://localhost:5000/count_by_date\").json()"
   ]
  },
  {
   "cell_type": "markdown",
   "metadata": {},
   "source": [
    "# Adicionar Noticia"
   ]
  },
  {
   "cell_type": "code",
   "execution_count": 20,
   "metadata": {},
   "outputs": [
    {
     "data": {
      "text/plain": [
       "{'message': 'Notícia adicionada com sucesso!'}"
      ]
     },
     "execution_count": 20,
     "metadata": {},
     "output_type": "execute_result"
    }
   ],
   "source": [
    "json_data = dict(\n",
    "    source_name=\"levi\",\n",
    "    author=\"levi\",\n",
    "    title=\"levi\",\n",
    "    description=\"levi\",\n",
    "    url=\"levi\",\n",
    "    url_to_image=\"levi\",\n",
    "    published_at=\"levi\",\n",
    "    content=\"levi\",\n",
    ")\n",
    "\n",
    "\n",
    "rq.post(\"http://localhost:5000/add_news\", json=json_data).json()"
   ]
  },
  {
   "cell_type": "markdown",
   "metadata": {},
   "source": [
    "# Contagem de notícias por fonte e autor"
   ]
  },
  {
   "cell_type": "code",
   "execution_count": 9,
   "metadata": {},
   "outputs": [
    {
     "data": {
      "text/plain": [
       "[{'author': 'KARE11.com', 'count': 1, 'source_name': 'Google News'},\n",
       " {'author': 'Lucas Ropek', 'count': 1, 'source_name': 'Gizmodo.com'},\n",
       " {'author': 'Ведомости', 'count': 1, 'source_name': 'Google News (Russia)'},\n",
       " {'author': 'Wired', 'count': 1, 'source_name': 'Wired'},\n",
       " {'author': 'https://www.facebook.com/entertainmentweekly',\n",
       "  'count': 1,\n",
       "  'source_name': 'Entertainment Weekly'},\n",
       " {'author': None, 'count': 1, 'source_name': 'ESPN Cric Info'},\n",
       " {'author': 'Katherine Tangalakis-Lippert',\n",
       "  'count': 1,\n",
       "  'source_name': 'Business Insider (UK)'},\n",
       " {'author': 'Jason R. Rich', 'count': 1, 'source_name': 'CBS News'},\n",
       " {'author': 'Nicole Narea', 'count': 1, 'source_name': 'Recode'},\n",
       " {'author': 'GQ', 'count': 1, 'source_name': 'Wired.de'}]"
      ]
     },
     "execution_count": 9,
     "metadata": {},
     "output_type": "execute_result"
    }
   ],
   "source": [
    "rq.get(\"http://localhost:5000/count_by_source_author\").json()"
   ]
  },
  {
   "cell_type": "markdown",
   "metadata": {},
   "source": [
    "# Contagem de palavras chave nas notícias"
   ]
  },
  {
   "cell_type": "code",
   "execution_count": 12,
   "metadata": {},
   "outputs": [
    {
     "data": {
      "text/plain": [
       "[{'apple_count': 0,\n",
       "  'date': 'Mon, 27 Apr 2020 00:00:00 GMT',\n",
       "  'google_count': 0,\n",
       "  'microsfot_count': 0},\n",
       " {'apple_count': 1,\n",
       "  'date': 'Tue, 23 Mar 2021 00:00:00 GMT',\n",
       "  'google_count': 0,\n",
       "  'microsfot_count': 0},\n",
       " {'apple_count': 1,\n",
       "  'date': 'Thu, 21 Mar 2024 00:00:00 GMT',\n",
       "  'google_count': 0,\n",
       "  'microsfot_count': 0},\n",
       " {'apple_count': 1,\n",
       "  'date': 'Sun, 24 Mar 2024 00:00:00 GMT',\n",
       "  'google_count': 0,\n",
       "  'microsfot_count': 0},\n",
       " {'apple_count': 1,\n",
       "  'date': 'Tue, 02 Apr 2024 00:00:00 GMT',\n",
       "  'google_count': 0,\n",
       "  'microsfot_count': 0},\n",
       " {'apple_count': 5,\n",
       "  'date': 'Thu, 04 Apr 2024 00:00:00 GMT',\n",
       "  'google_count': 0,\n",
       "  'microsfot_count': 0}]"
      ]
     },
     "execution_count": 12,
     "metadata": {},
     "output_type": "execute_result"
    }
   ],
   "source": [
    "rq.get(\"http://localhost:5000/keywords\").json()"
   ]
  },
  {
   "cell_type": "code",
   "execution_count": null,
   "metadata": {},
   "outputs": [],
   "source": []
  }
 ],
 "metadata": {
  "kernelspec": {
   "display_name": ".venv",
   "language": "python",
   "name": "python3"
  },
  "language_info": {
   "codemirror_mode": {
    "name": "ipython",
    "version": 3
   },
   "file_extension": ".py",
   "mimetype": "text/x-python",
   "name": "python",
   "nbconvert_exporter": "python",
   "pygments_lexer": "ipython3",
   "version": "3.11.8"
  }
 },
 "nbformat": 4,
 "nbformat_minor": 2
}
