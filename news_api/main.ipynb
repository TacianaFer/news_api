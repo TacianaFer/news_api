{
 "cells": [
  {
   "cell_type": "code",
   "execution_count": 1,
   "metadata": {},
   "outputs": [],
   "source": [
    "import httpx as rq\n",
    "import pandas as pd\n"
   ]
  },
  {
   "cell_type": "markdown",
   "metadata": {},
   "source": [
    "# database"
   ]
  },
  {
   "cell_type": "code",
   "execution_count": 2,
   "metadata": {},
   "outputs": [
    {
     "name": "stdout",
     "output_type": "stream",
     "text": [
      "2024-04-02 14:06:42,115 INFO sqlalchemy.engine.Engine BEGIN (implicit)\n",
      "2024-04-02 14:06:42,116 INFO sqlalchemy.engine.Engine PRAGMA main.table_info(\"news\")\n",
      "2024-04-02 14:06:42,116 INFO sqlalchemy.engine.Engine [raw sql] ()\n",
      "2024-04-02 14:06:42,118 INFO sqlalchemy.engine.Engine COMMIT\n"
     ]
    }
   ],
   "source": [
    "from sqlalchemy import create_engine, Table, Column, MetaData, Integer, String\n",
    "\n",
    "\n",
    "engine = create_engine(\"sqlite:///news.db\", echo=True)\n",
    "\n",
    "meta = MetaData()\n",
    "\n",
    "news = Table(\n",
    "    \"news\",\n",
    "    meta,\n",
    "    Column(\"author\", String),\n",
    "    Column(\"title\", String),\n",
    "    Column(\"description\", String),\n",
    "    Column(\"url\", String, primary_key=True),\n",
    "    Column(\"urlToImage\", String),\n",
    "    Column(\"publishedAt\", String),\n",
    "    Column(\"content\", String),\n",
    "    Column(\"source_id\", String),\n",
    "    Column(\"source_name\", String),\n",
    ")\n",
    "\n",
    "meta.create_all(engine)\n"
   ]
  },
  {
   "cell_type": "code",
   "execution_count": 3,
   "metadata": {},
   "outputs": [
    {
     "name": "stdout",
     "output_type": "stream",
     "text": [
      "2024-04-02 14:06:49,493 INFO sqlalchemy.engine.Engine BEGIN (implicit)\n",
      "2024-04-02 14:06:49,496 INFO sqlalchemy.engine.Engine PRAGMA main.table_info(\"SELECT * FROM news\")\n",
      "2024-04-02 14:06:49,497 INFO sqlalchemy.engine.Engine [raw sql] ()\n",
      "2024-04-02 14:06:49,497 INFO sqlalchemy.engine.Engine PRAGMA temp.table_info(\"SELECT * FROM news\")\n",
      "2024-04-02 14:06:49,497 INFO sqlalchemy.engine.Engine [raw sql] ()\n",
      "2024-04-02 14:06:49,503 INFO sqlalchemy.engine.Engine SELECT * FROM news\n",
      "2024-04-02 14:06:49,504 INFO sqlalchemy.engine.Engine [raw sql] ()\n",
      "2024-04-02 14:06:49,520 INFO sqlalchemy.engine.Engine ROLLBACK\n",
      "2024-04-02 14:06:51,592 INFO sqlalchemy.engine.Engine BEGIN (implicit)\n",
      "2024-04-02 14:06:51,601 INFO sqlalchemy.engine.Engine PRAGMA main.table_info(\"news\")\n",
      "2024-04-02 14:06:51,602 INFO sqlalchemy.engine.Engine [raw sql] ()\n",
      "2024-04-02 14:06:51,603 INFO sqlalchemy.engine.Engine PRAGMA main.table_info(\"news\")\n",
      "2024-04-02 14:06:51,603 INFO sqlalchemy.engine.Engine [raw sql] ()\n",
      "2024-04-02 14:06:51,603 INFO sqlalchemy.engine.Engine SELECT name FROM sqlite_master WHERE type='table' AND name NOT LIKE 'sqlite~_%' ESCAPE '~' ORDER BY name\n",
      "2024-04-02 14:06:51,603 INFO sqlalchemy.engine.Engine [raw sql] ()\n",
      "2024-04-02 14:06:51,614 INFO sqlalchemy.engine.Engine SELECT name FROM sqlite_master WHERE type='view' AND name NOT LIKE 'sqlite~_%' ESCAPE '~' ORDER BY name\n",
      "2024-04-02 14:06:51,616 INFO sqlalchemy.engine.Engine [raw sql] ()\n",
      "2024-04-02 14:06:51,621 INFO sqlalchemy.engine.Engine PRAGMA main.table_xinfo(\"news\")\n",
      "2024-04-02 14:06:51,626 INFO sqlalchemy.engine.Engine [raw sql] ()\n",
      "2024-04-02 14:06:51,630 INFO sqlalchemy.engine.Engine SELECT sql FROM  (SELECT * FROM sqlite_master UNION ALL   SELECT * FROM sqlite_temp_master) WHERE name = ? AND type in ('table', 'view')\n",
      "2024-04-02 14:06:51,632 INFO sqlalchemy.engine.Engine [raw sql] ('news',)\n",
      "2024-04-02 14:06:51,637 INFO sqlalchemy.engine.Engine PRAGMA main.foreign_key_list(\"news\")\n",
      "2024-04-02 14:06:51,642 INFO sqlalchemy.engine.Engine [raw sql] ()\n",
      "2024-04-02 14:06:51,645 INFO sqlalchemy.engine.Engine PRAGMA temp.foreign_key_list(\"news\")\n",
      "2024-04-02 14:06:51,649 INFO sqlalchemy.engine.Engine [raw sql] ()\n",
      "2024-04-02 14:06:51,650 INFO sqlalchemy.engine.Engine SELECT sql FROM  (SELECT * FROM sqlite_master UNION ALL   SELECT * FROM sqlite_temp_master) WHERE name = ? AND type in ('table', 'view')\n",
      "2024-04-02 14:06:51,650 INFO sqlalchemy.engine.Engine [raw sql] ('news',)\n",
      "2024-04-02 14:06:51,650 INFO sqlalchemy.engine.Engine PRAGMA main.index_list(\"news\")\n",
      "2024-04-02 14:06:51,663 INFO sqlalchemy.engine.Engine [raw sql] ()\n",
      "2024-04-02 14:06:51,668 INFO sqlalchemy.engine.Engine PRAGMA main.index_info(\"ix_news_index\")\n",
      "2024-04-02 14:06:51,671 INFO sqlalchemy.engine.Engine [raw sql] ()\n",
      "2024-04-02 14:06:51,679 INFO sqlalchemy.engine.Engine PRAGMA main.index_list(\"news\")\n",
      "2024-04-02 14:06:51,679 INFO sqlalchemy.engine.Engine [raw sql] ()\n",
      "2024-04-02 14:06:51,688 INFO sqlalchemy.engine.Engine PRAGMA main.index_info(\"ix_news_index\")\n",
      "2024-04-02 14:06:51,692 INFO sqlalchemy.engine.Engine [raw sql] ()\n",
      "2024-04-02 14:06:51,703 INFO sqlalchemy.engine.Engine SELECT sql FROM  (SELECT * FROM sqlite_master UNION ALL   SELECT * FROM sqlite_temp_master) WHERE name = ? AND type in ('table', 'view')\n",
      "2024-04-02 14:06:51,706 INFO sqlalchemy.engine.Engine [raw sql] ('news',)\n",
      "2024-04-02 14:06:51,709 INFO sqlalchemy.engine.Engine \n",
      "DROP TABLE news\n",
      "2024-04-02 14:06:51,709 INFO sqlalchemy.engine.Engine [no key 0.00201s] ()\n",
      "2024-04-02 14:06:51,730 INFO sqlalchemy.engine.Engine \n",
      "CREATE TABLE news (\n",
      "\tlevel_0 BIGINT, \n",
      "\t\"index\" FLOAT, \n",
      "\tauthor TEXT, \n",
      "\ttitle TEXT, \n",
      "\tdescription TEXT, \n",
      "\turl TEXT, \n",
      "\t\"urlToImage\" TEXT, \n",
      "\t\"publishedAt\" TEXT, \n",
      "\tcontent TEXT, \n",
      "\tsource_id TEXT, \n",
      "\tsource_name TEXT\n",
      ")\n",
      "\n",
      "\n",
      "2024-04-02 14:06:51,733 INFO sqlalchemy.engine.Engine [no key 0.00304s] ()\n",
      "2024-04-02 14:06:51,749 INFO sqlalchemy.engine.Engine CREATE INDEX ix_news_level_0 ON news (level_0)\n",
      "2024-04-02 14:06:51,751 INFO sqlalchemy.engine.Engine [no key 0.00221s] ()\n",
      "2024-04-02 14:06:51,775 INFO sqlalchemy.engine.Engine INSERT INTO news (level_0, \"index\", author, title, description, url, \"urlToImage\", \"publishedAt\", content, source_id, source_name) VALUES (?, ?, ?, ?, ?, ?, ?, ?, ?, ?, ?)\n",
      "2024-04-02 14:06:51,775 INFO sqlalchemy.engine.Engine [generated in 0.00307s] [(0, 0.0, 'Sheena Vasani', 'The new MacBook Air M3 is $100 off for the first time', 'Apple’s M3-powered MacBook is down to $999.99 in black, which is a $100 discount we’re seeing for the first time.', 'http://www.theverge.com/2024/3/27/24113809/apple-macbook-air-m3-deal-sale', 'https://cdn.vox-cdn.com/thumbor/jpk-FhSV3aZmPpHRHFcLgdpdZXw=/0x0:1960x1102/1200x628/filters:focal(980x551:981x552)/cdn.vox-cdn.com/uploads/chorus_asset/file/25317890/Apple_MacBook_Air_lifestyle_gaming_240304_big.jpg.large_2x.jpg', '2024-03-27T20:08:54Z', 'The new MacBook Air M3 is $100 off for the first time\\r\\nThe new MacBook Air M3 is $100 off for the first time\\r\\n / Apples newest laptop is down to a new all-time low just three weeks after its release.… [+1201 chars]', 'the-verge', 'The Verge'), (1, 1.0, None, '[Removed]', '[Removed]', 'https://removed.com', None, '1970-01-01T00:00:00Z', '[Removed]', None, '[Removed]'), (2, 2.0, 'Kevin Purdy', '“MFA Fatigue” attack targets iPhone owners with endless password reset prompts', 'Rapid-fire prompts sometimes followed with spoofed calls from \"Apple support.\"', 'https://arstechnica.com/security/2024/03/mfa-fatigue-attack-targets-iphone-owners-with-endless-password-reset-prompts/', 'https://cdn.arstechnica.net/wp-content/uploads/2024/03/iphone_pass_prompt2_redo-760x380.jpg', '2024-03-27T18:10:10+00:00', 'Enlarge/ They look like normal notifications, but opening an iPhone with one or more of these stacked up, you won\\'t be able to do much of anything until you tap \"Allow\" or \"Don\\'t Allow.\" And they\\'re … [+4938 chars]', 'ars-technica', 'Ars Technica'), (3, 3.0, 'Alex Wilhelm', \"TechCrunch Minute: Robinhood's credit card has arrived to take on Apple and any upcoming challengers | TechCrunch\", \"Robinhood's new credit card was revealed Tuesday, with a particular feature: the ability to invest cash back bonuses into investments.\", 'https://techcrunch.com/2024/03/27/techcrunch-minute-robinhoods-credit-card-has-arrived-to-take-on-apple-and-any-upcoming-challengers/', 'https://techcrunch.com/wp-content/uploads/2024/03/Robinhood-TC-Minute-Site.png?resize=1200,675', '2024-03-27T15:43:20Z', 'Robinhood’s new credit card was revealed Tuesday, and though it’s only available for Robinhood Gold members, the Gold Card does have a feature that’s spurring headlines: the ability to invest cash ba… [+1036 chars]', 'techcrunch', 'TechCrunch'), (4, 4.0, 'Oli Welsh', 'Katamari Damacy’s classic soundtrack hits Spotify, Apple Music at last', 'The original soundtrack album for Keita Takahashi’s surreal masterpiece has been published to celebrate the PS2 game’s 20th anniversary', 'https://www.polygon.com/24113438/katamari-damacy-soundtrack-on-spotify-at-last', 'https://cdn.vox-cdn.com/thumbor/CNMZsw_WfoR1o_zMyhc58pEQ6Y0=/344x431:1100x827/fit-in/1200x630/cdn.vox-cdn.com/assets/1778333/Katamari_Damacy.jpg', '2024-03-27T14:51:45Z', 'Keita Takahashis surreal gaming masterpiece Katamari Damacymarks its 20th anniversary this year, and publisher Bandai Namco has done something truly meaningful to celebrate: Its resolved whatever rig… [+1824 chars]', 'polygon', 'Polygon'), (5, 5.0, 'Brian Heater', 'Orchard vision system turns farm equipment into AI-powered data collectors | TechCrunch', 'Agricultural robotics are not a new phenomenon. We’ve seen systems that pick apples and berries, kill weeds, plant trees, transport produce and more. But', 'https://techcrunch.com/2024/03/27/orchard-robotics-ai-powered-camera-system-turns-existing-farm-equipment-into-apple-growing-data-collectors/', 'https://techcrunch.com/wp-content/uploads/2024/03/Screenshot-2024-03-26-at-11.01.46\\u202fAM.jpg?resize=1200,631', '2024-03-26T21:11:21Z', 'Agricultural robotics are not a new phenomenon. Weve seen systems that pick apples and berries, kill weeds, plant trees, transport produce and more. But while these functions are understood to be the… [+2328 chars]', 'techcrunch', 'TechCrunch'), (6, 6.0, None, '[Removed]', '[Removed]', 'https://removed.com', None, '1970-01-01T00:00:00Z', '[Removed]', None, '[Removed]'), (7, 7.0, 'Katherine Tangalakis-Lippert', \"Walt Mossberg says the DOJ's claim of an Apple monopoly is 'laughable'\", \"Former Wall Street Journal columnist Walt Mossberg wrote in a post on Threads that the DOJ's antitrust claim against Apple seems weak.\", 'http://uk.businessinsider.com/doj-apple-monopoly-claim-laughable-walt-mossberg-threads-2024-3', 'https://i.insider.com/65ff6a931caec1275a68cc72?width=1200&format=jpeg', '2024-03-24T01:35:39Z', 'The DOJ this week filed an antitrust lawsuit against Apple, claiming the company abused its monopoly power to throttle competition among smartphone manufacturers.\\r\\nWhile insiders and analysts across … [+3273 chars]', 'business-insider-uk', 'Business Insider (UK)')  ... displaying 10 of 17 total bound parameter sets ...  (5, None, None, 'Warum Autohersteller die Kontrolle über ihre Infotainmentsysteme an Apple und Google verlieren', 'Bisher versuchten die meisten Autohersteller eigene Infotainmentsysteme zu integrieren. Immer mehr geben auf – und überlassen Apple und Google das Feld.', 'https://www.businessinsider.de/gruenderszene/automotive-mobility/warum-autohersteller-die-kontrolle-ueber-ihre-infotainmentsysteme-an-apple-und-google-verlieren/', 'https://cdn.businessinsider.de/wp-content/uploads/2024/03/apple.jpg?ver=1711467279', '2024-04-01T04:00:00+00:00', 'Bisher versuchten die meisten Hersteller eigene Infotainmentsysteme in ihre Autos zu integrieren. Doch immer mehr geben auf und überlassen Apple und Google das Feld.Porsche wird als einer der ersten … [+4798 chars]', 'gruenderszene', 'Gruenderszene'), (6, None, 'Hardika Singh', 'The Stock Market’s Magnificent Seven Is Now the Fab Four', 'It is a bullish signal that the market is rallying without the likes of Apple and Tesla, some investors say', 'https://www.wsj.com/finance/stocks/the-stock-markets-magnificent-seven-is-now-the-fab-four-2dff87ac?mod=hp_lead_pos2', 'https://images.wsj.net/im-943904/social', '2024-04-01T03:00:00Z', None, 'the-wall-street-journal', 'The Wall Street Journal')]\n",
      "2024-04-02 14:06:51,775 INFO sqlalchemy.engine.Engine COMMIT\n",
      "Webhook sent with new information: 6 new articles.\n"
     ]
    }
   ],
   "source": [
    "existing_data = pd.read_sql(\"SELECT * FROM news\", engine)\n",
    "\n",
    "# Fetch new data\n",
    "params = {\n",
    "    \"q\": \"Apple\",\n",
    "    \"sortBy\": \"popularity\",\n",
    "    \"apiKey\": \"45a541a896864ea0becf962b10f5a79e\",\n",
    "}\n",
    "response = rq.get(\"https://newsapi.org/v2/top-headlines\", params=params)\n",
    "new_data = pd.json_normalize(response.json()[\"articles\"], sep=\"_\")\n",
    "\n",
    "# Filter out data that already exists\n",
    "new_data = new_data[~new_data[\"url\"].isin(existing_data[\"url\"])]\n",
    "\n",
    "# Append new data to existing data\n",
    "merged_data = pd.concat([existing_data, new_data])\n",
    "\n",
    "# Update database\n",
    "merged_data.to_sql(\"news\", engine, if_exists=\"replace\")\n",
    "\n",
    "# Send webhook with new information\n",
    "# Implement webhook sending logic here\n",
    "print(\"Webhook sent with new information:\", new_data.shape[0], \"new articles.\")"
   ]
  }
 ],
 "metadata": {
  "kernelspec": {
   "display_name": ".venv",
   "language": "python",
   "name": "python3"
  },
  "language_info": {
   "codemirror_mode": {
    "name": "ipython",
    "version": 3
   },
   "file_extension": ".py",
   "mimetype": "text/x-python",
   "name": "python",
   "nbconvert_exporter": "python",
   "pygments_lexer": "ipython3",
   "version": "3.12.2"
  }
 },
 "nbformat": 4,
 "nbformat_minor": 2
}
